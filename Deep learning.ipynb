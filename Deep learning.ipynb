{
 "cells": [
  {
   "cell_type": "code",
   "execution_count": 1,
   "metadata": {},
   "outputs": [],
   "source": [
    "import tensorflow as tf\n",
    "import numpy as np\n",
    "import matplotlib.pyplot as plt"
   ]
  },
  {
   "cell_type": "code",
   "execution_count": 5,
   "metadata": {},
   "outputs": [],
   "source": [
    "n,h,d=64,1000,100\n",
    "a=tf.placeholder(tf.float64,shape=(n,d))\n",
    "b=tf.placeholder(tf.float64,shape=(n,d))\n",
    "w1=tf.placeholder(tf.float64,shape=(d,h))\n",
    "w2=tf.placeholder(tf.float64,shape=(h,d))"
   ]
  },
  {
   "cell_type": "code",
   "execution_count": 7,
   "metadata": {},
   "outputs": [],
   "source": [
    "r=tf.maximum(tf.matmul(a,w1),0)\n",
    "b_predict=tf.matmul(r,w2)\n",
    "loss= tf.reduce_mean(tf.reduce_sum((b_predict-b)**2,axis=1))\n",
    "grad_w1,grad_w2=tf.gradients(loss,[w1,w2])"
   ]
  },
  {
   "cell_type": "code",
   "execution_count": 35,
   "metadata": {},
   "outputs": [
    {
     "name": "stdout",
     "output_type": "stream",
     "text": [
      "[5103545.765812248, array([[ 278.05234562, -131.59506693,  312.78047924, ...,  407.8255021 ,\n",
      "        1195.67216808,  115.53115666],\n",
      "       [  48.05095904,  -31.66020469,  507.09466565, ..., -108.50977853,\n",
      "         938.18620321, -221.9906141 ],\n",
      "       [  95.42979244, -466.16952776,  407.43034345, ..., -290.47255242,\n",
      "        -400.37937843,  491.04887029],\n",
      "       ...,\n",
      "       [ 182.32270255,  643.32206959, -983.61755863, ...,  315.959012  ,\n",
      "        -296.17123626,   39.2703016 ],\n",
      "       [ 247.98753535,   69.60587073, -730.14664795, ...,  -10.41049863,\n",
      "        -284.75329269, -169.43537415],\n",
      "       [ 142.91480253,  396.0867909 ,  434.05083165, ..., -465.55491049,\n",
      "        -820.89448039,  142.84817507]]), array([[-1237.52921865,  -257.34027554,  -145.85981056, ...,\n",
      "          188.85270475, -1075.40741888,  -194.44207465],\n",
      "       [-1415.34751649,  -384.0756889 ,   479.58148285, ...,\n",
      "         -304.12190965, -2354.21397625,   551.74319409],\n",
      "       [-1715.34274131,   456.52995571,  -494.25359441, ...,\n",
      "         -241.19285991, -1408.34310401,   -83.515042  ],\n",
      "       ...,\n",
      "       [-1041.17000673,  -706.05202866,   568.94059517, ...,\n",
      "          152.57388401, -2510.76405101, -1032.26796993],\n",
      "       [-1111.03781041,  -191.51660959,   498.73297522, ...,\n",
      "          289.74133803, -1239.52117652,  -153.71382522],\n",
      "       [ -819.38460724,   -90.43236504,    56.25285345, ...,\n",
      "          131.84707905, -1862.48748865,   160.95258825]])]\n"
     ]
    }
   ],
   "source": [
    "with tf.Session() as sess:\n",
    "    values={a:np.random.randn(n,d),\n",
    "           b:np.random.randn(n,d),\n",
    "           w1:np.random.randn(d,h),\n",
    "           w2:np.random.randn(h,d)}\n",
    "    out=sess.run([loss,grad_w1,grad_w2],feed_dict=values)\n",
    "    loss_val,grad_w1_val,grad_w2_val=out\n",
    "    print(out)"
   ]
  },
  {
   "cell_type": "code",
   "execution_count": 48,
   "metadata": {},
   "outputs": [
    {
     "name": "stdout",
     "output_type": "stream",
     "text": [
      "[4886159.2164238775, array([[  -44.84061385,  -207.635677  ,  -311.66422685, ...,\n",
      "          313.2169466 ,  -124.19515445,   343.32517082],\n",
      "       [   19.27522562,  -100.35484625,  -169.47088334, ...,\n",
      "          425.49737191,  -156.01468526,   -17.8294494 ],\n",
      "       [ -471.24498715,   482.13009531,  -157.00684161, ...,\n",
      "          -58.58796775,   157.42389096,   -73.49402594],\n",
      "       ...,\n",
      "       [   26.26949529,    91.20827903,  -677.94871328, ...,\n",
      "         -421.90640169,  -830.5462656 , -1802.99801089],\n",
      "       [ -172.57463949,    53.62794549,   125.62440283, ...,\n",
      "         -434.75210843,   628.64332413,   437.31391691],\n",
      "       [ -183.74301194,   609.25114641,  -113.09312267, ...,\n",
      "          -17.91353029,   489.34553754,  -417.33525983]]), array([[ 3135.35182726,  -661.38869312,   536.95397854, ...,\n",
      "         1813.29652992, -1099.67257202, -1012.44676972],\n",
      "       [ 2212.36154369,  -106.73748914,  1283.25795216, ...,\n",
      "         1604.4872475 ,  -626.98707665,  -784.76155573],\n",
      "       [ 3015.81384681, -1057.25025386,  1396.63375267, ...,\n",
      "          849.91163392,  -509.06936804,  -375.54413428],\n",
      "       ...,\n",
      "       [ 3428.6677263 ,  -820.86581768,   817.9982775 , ...,\n",
      "         1046.31661593,  -234.31116979,  -962.66241759],\n",
      "       [ 1880.15674222,  -141.12534357,   708.44856536, ...,\n",
      "         1123.77223989,  -485.74369431,  -347.01940704],\n",
      "       [ 2542.71768158,  -602.82651007,  1006.03062881, ...,\n",
      "          649.01016127,  -559.5330933 ,  -477.83595935]])]\n"
     ]
    },
    {
     "data": {
      "image/png": "[encoded data removed]",
      "text/plain": [
       "<Figure size 432x288 with 1 Axes>"
      ]
     },
     "metadata": {
      "needs_background": "light"
     },
     "output_type": "display_data"
    },
    {
     "name": "stdout",
     "output_type": "stream",
     "text": [
      "4886159.2164238775 275356.3912779506\n"
     ]
    }
   ],
   "source": [
    "n,h,d=64,1000,100\n",
    "a=tf.placeholder(tf.float64,shape=(n,d))\n",
    "b=tf.placeholder(tf.float64,shape=(n,d))\n",
    "w1=tf.placeholder(tf.float64,shape=(d,h))\n",
    "w2=tf.placeholder(tf.float64,shape=(h,d))\n",
    "r=tf.maximum(tf.matmul(a,w1),0)\n",
    "b_predict=tf.matmul(r,w2)\n",
    "loss= tf.reduce_mean(tf.reduce_sum((b_predict-b)**2,axis=1))\n",
    "grad_w1,grad_w2=tf.gradients(loss,[w1,w2])\n",
    "\n",
    "\n",
    "with tf.Session() as sess:\n",
    "    values={a:np.random.randn(n,d),\n",
    "           b:np.random.randn(n,d),\n",
    "           w1:np.random.randn(d,h),\n",
    "           w2:np.random.randn(h,d)}\n",
    "    out=sess.run([loss,grad_w1,grad_w2],feed_dict=values)\n",
    "    loss_val,grad_w1_val,grad_w2_val=out\n",
    "    print(out)\n",
    "    loss_summary=[]\n",
    "    step=500\n",
    "    l_rate=1e-5\n",
    "    for t in range(50):\n",
    "        out=sess.run([loss,grad_w1,grad_w2],feed_dict=values)\n",
    "        loss_val,grad_w1_val,grad_w2_val=out\n",
    "        values[w1]-=l_rate*grad_w1_val\n",
    "        values[w2]-=l_rate*grad_w2_val\n",
    "        loss_summary.append(loss_val)\n",
    "    plt.plot(range(50),loss_summary,'g-',label='loss_value')\n",
    "    plt.show()\n",
    "    print(loss_summary[0],loss_summary[50-1])"
   ]
  },
  {
   "cell_type": "code",
   "execution_count": null,
   "metadata": {},
   "outputs": [],
   "source": []
  },
  {
   "cell_type": "code",
   "execution_count": 82,
   "metadata": {},
   "outputs": [
    {
     "name": "stdout",
     "output_type": "stream",
     "text": [
      "[4707457.0]\n",
      "[4707457.0]\n",
      "[4707457.0]\n",
      "[4707457.0]\n",
      "[4707457.0]\n",
      "[4707457.0]\n",
      "[4707457.0]\n",
      "[4707457.0]\n",
      "[4707457.0]\n",
      "[4707457.0]\n",
      "[4707457.0]\n",
      "[4707457.0]\n",
      "[4707457.0]\n",
      "[4707457.0]\n",
      "[4707457.0]\n",
      "[4707457.0]\n",
      "[4707457.0]\n",
      "[4707457.0]\n",
      "[4707457.0]\n",
      "[4707457.0]\n",
      "[4707457.0]\n",
      "[4707457.0]\n",
      "[4707457.0]\n",
      "[4707457.0]\n",
      "[4707457.0]\n",
      "[4707457.0]\n",
      "[4707457.0]\n",
      "[4707457.0]\n",
      "[4707457.0]\n",
      "[4707457.0]\n",
      "[4707457.0]\n",
      "[4707457.0]\n",
      "[4707457.0]\n",
      "[4707457.0]\n",
      "[4707457.0]\n",
      "[4707457.0]\n",
      "[4707457.0]\n",
      "[4707457.0]\n",
      "[4707457.0]\n",
      "[4707457.0]\n",
      "[4707457.0]\n",
      "[4707457.0]\n",
      "[4707457.0]\n",
      "[4707457.0]\n",
      "[4707457.0]\n",
      "[4707457.0]\n",
      "[4707457.0]\n",
      "[4707457.0]\n",
      "[4707457.0]\n",
      "[4707457.0]\n"
     ]
    },
    {
     "data": {
      "image/png": "[encoded data removed]",
      "text/plain": [
       "<Figure size 432x288 with 1 Axes>"
      ]
     },
     "metadata": {
      "needs_background": "light"
     },
     "output_type": "display_data"
    },
    {
     "name": "stdout",
     "output_type": "stream",
     "text": [
      "[4707457.0] [4707457.0]\n"
     ]
    }
   ],
   "source": [
    "n,h,d=64,1000,100\n",
    "a=tf.placeholder(tf.float32,shape=(n,d))\n",
    "b=tf.placeholder(tf.float32,shape=(n,d))\n",
    "w1=tf.Variable(tf.random_normal((d,h)))\n",
    "w2=tf.Variable(tf.random_normal((h,d)))\n",
    "r=tf.maximum(tf.matmul(a,w1),0)\n",
    "b_predict=tf.matmul(r,w2)\n",
    "loss= tf.reduce_mean(tf.reduce_sum((b_predict-b)**2,axis=1))\n",
    "grad_w1,grad_w2=tf.gradients(loss,[w1,w2])\n",
    "\n",
    "\n",
    "l_rate=1e-5\n",
    "new_w1=w1-l_rate*grad_w1\n",
    "new_w2=w2-l_rate*grad_w2\n",
    "\n",
    "\n",
    "with tf.Session() as sess:\n",
    "    sess.run(tf.global_variables_initializer())\n",
    "    values={a:np.random.randn(n,d),\n",
    "            b:np.random.randn(n,d)}\n",
    "    loss_summary=[]\n",
    "    for t in range(50):\n",
    "        out=sess.run([loss],feed_dict=values)\n",
    "        loss_val=out\n",
    "        loss_summary.append(loss_val)\n",
    "        print(out)\n",
    "    plt.plot(range(50),loss_summary,'g-',label='loss_value')\n",
    "    plt.show()\n",
    "    print(loss_summary[0],loss_summary[50-1])"
   ]
  },
  {
   "cell_type": "code",
   "execution_count": 77,
   "metadata": {},
   "outputs": [
    {
     "name": "stdout",
     "output_type": "stream",
     "text": [
      "1.10.0\n"
     ]
    }
   ],
   "source": [
    "print (tf.__version__)"
   ]
  },
  {
   "cell_type": "code",
   "execution_count": null,
   "metadata": {},
   "outputs": [],
   "source": []
  },
  {
   "cell_type": "code",
   "execution_count": 87,
   "metadata": {},
   "outputs": [
    {
     "name": "stdout",
     "output_type": "stream",
     "text": [
      "[5248732.0, None]\n",
      "[5248732.0, None]\n",
      "[5248732.0, None]\n",
      "[5248732.0, None]\n",
      "[5248732.0, None]\n",
      "[5248732.0, None]\n",
      "[5248732.0, None]\n",
      "[5248732.0, None]\n",
      "[5248732.0, None]\n",
      "[5248732.0, None]\n",
      "[5248732.0, None]\n",
      "[5248732.0, None]\n",
      "[5248732.0, None]\n",
      "[5248732.0, None]\n",
      "[5248732.0, None]\n",
      "[5248732.0, None]\n",
      "[5248732.0, None]\n",
      "[5248732.0, None]\n",
      "[5248732.0, None]\n",
      "[5248732.0, None]\n",
      "[5248732.0, None]\n",
      "[5248732.0, None]\n",
      "[5248732.0, None]\n",
      "[5248732.0, None]\n",
      "[5248732.0, None]\n",
      "[5248732.0, None]\n",
      "[5248732.0, None]\n",
      "[5248732.0, None]\n",
      "[5248732.0, None]\n",
      "[5248732.0, None]\n",
      "[5248732.0, None]\n",
      "[5248732.0, None]\n",
      "[5248732.0, None]\n",
      "[5248732.0, None]\n",
      "[5248732.0, None]\n",
      "[5248732.0, None]\n",
      "[5248732.0, None]\n",
      "[5248732.0, None]\n",
      "[5248732.0, None]\n",
      "[5248732.0, None]\n",
      "[5248732.0, None]\n",
      "[5248732.0, None]\n",
      "[5248732.0, None]\n",
      "[5248732.0, None]\n",
      "[5248732.0, None]\n",
      "[5248732.0, None]\n",
      "[5248732.0, None]\n",
      "[5248732.0, None]\n",
      "[5248732.0, None]\n",
      "[5248732.0, None]\n"
     ]
    },
    {
     "data": {
      "image/png": "[encoded data removed]",
      "text/plain": [
       "<Figure size 432x288 with 1 Axes>"
      ]
     },
     "metadata": {
      "needs_background": "light"
     },
     "output_type": "display_data"
    },
    {
     "name": "stdout",
     "output_type": "stream",
     "text": [
      "[5248732.0, None] [5248732.0, None]\n"
     ]
    }
   ],
   "source": [
    "n,h,d=64,1000,100\n",
    "a=tf.placeholder(tf.float32,shape=(n,d))\n",
    "b=tf.placeholder(tf.float32,shape=(n,d))\n",
    "w1=tf.Variable(tf.random_normal((d,h)))\n",
    "w2=tf.Variable(tf.random_normal((h,d)))\n",
    "r=tf.maximum(tf.matmul(a,w1),0)\n",
    "b_predict=tf.matmul(r,w2)\n",
    "loss= tf.reduce_mean(tf.reduce_sum((b_predict-b)**2,axis=1))\n",
    "grad_w1,grad_w2=tf.gradients(loss,[w1,w2])\n",
    "\n",
    "\n",
    "l_rate=1e-5\n",
    "new_w1=w1-l_rate*grad_w1\n",
    "new_w2=w2-l_rate*grad_w2\n",
    "\n",
    "##\n",
    "updates=tf.group(new_w1,new_w2)\n",
    "with tf.Session() as sess:\n",
    "    sess.run(tf.global_variables_initializer())\n",
    "    values={a:np.random.randn(n,d),\n",
    "            b:np.random.randn(n,d)}\n",
    "    loss_summary=[]\n",
    "    for t in range(50):\n",
    "        out=sess.run([loss,updates],feed_dict=values)\n",
    "        loss_val=out\n",
    "        print(out)\n",
    "        loss_summary.append(loss_val)\n",
    "    plt.plot(range(50),loss_summary,'g-',label='loss_value')\n",
    "    plt.show()\n",
    "    print(loss_summary[0],loss_summary[50-1])\n",
    "    "
   ]
  },
  {
   "cell_type": "code",
   "execution_count": null,
   "metadata": {},
   "outputs": [],
   "source": []
  },
  {
   "cell_type": "code",
   "execution_count": 88,
   "metadata": {},
   "outputs": [
    {
     "name": "stdout",
     "output_type": "stream",
     "text": [
      "[4654214.0, None]\n",
      "[3644846.5, None]\n",
      "[3105999.8, None]\n",
      "[2772751.5, None]\n",
      "[2535272.0, None]\n",
      "[2346657.2, None]\n",
      "[2186298.5, None]\n",
      "[2044550.9, None]\n",
      "[1916634.6, None]\n",
      "[1799921.8, None]\n",
      "[1692888.2, None]\n",
      "[1594246.2, None]\n",
      "[1503121.1, None]\n",
      "[1418742.8, None]\n",
      "[1340477.0, None]\n",
      "[1267816.0, None]\n",
      "[1200245.8, None]\n",
      "[1137313.2, None]\n",
      "[1078648.0, None]\n",
      "[1023896.3, None]\n",
      "[972689.4, None]\n",
      "[924761.9, None]\n",
      "[879883.9, None]\n",
      "[837792.56, None]\n",
      "[798271.4, None]\n",
      "[761130.4, None]\n",
      "[726186.5, None]\n",
      "[693284.4, None]\n",
      "[662286.44, None]\n",
      "[633041.25, None]\n",
      "[605438.94, None]\n",
      "[579346.6, None]\n",
      "[554677.44, None]\n",
      "[531325.25, None]\n",
      "[509216.06, None]\n",
      "[488256.03, None]\n",
      "[468384.38, None]\n",
      "[449527.97, None]\n",
      "[431633.4, None]\n",
      "[414624.0, None]\n",
      "[398461.38, None]\n",
      "[383070.94, None]\n",
      "[368426.94, None]\n",
      "[354485.5, None]\n",
      "[341200.44, None]\n",
      "[328532.66, None]\n",
      "[316458.88, None]\n",
      "[304935.44, None]\n",
      "[293924.44, None]\n",
      "[283403.7, None]\n"
     ]
    },
    {
     "data": {
      "image/png": "[encoded data removed]",
      "text/plain": [
       "<Figure size 432x288 with 1 Axes>"
      ]
     },
     "metadata": {
      "needs_background": "light"
     },
     "output_type": "display_data"
    },
    {
     "name": "stdout",
     "output_type": "stream",
     "text": [
      "[4654214.0, None] [283403.7, None]\n"
     ]
    }
   ],
   "source": [
    "n,h,d=64,1000,100\n",
    "a=tf.placeholder(tf.float32,shape=(n,d))\n",
    "b=tf.placeholder(tf.float32,shape=(n,d))\n",
    "w1=tf.Variable(tf.random_normal((d,h)))\n",
    "w2=tf.Variable(tf.random_normal((h,d)))\n",
    "r=tf.maximum(tf.matmul(a,w1),0)\n",
    "b_predict=tf.matmul(r,w2)\n",
    "loss= tf.reduce_mean(tf.reduce_sum((b_predict-b)**2,axis=1))\n",
    "grad_w1,grad_w2=tf.gradients(loss,[w1,w2])\n",
    "\n",
    "\n",
    "l_rate=1e-5\n",
    "new_w1=w1-l_rate*grad_w1\n",
    "new_w2=w2-l_rate*grad_w2\n",
    "\n",
    "###\n",
    "optimizer=tf.train.GradientDescentOptimizer(1e-5)\n",
    "updates=optimizer.minimize(loss)\n",
    "###\n",
    "\n",
    "with tf.Session() as sess:\n",
    "    sess.run(tf.global_variables_initializer())\n",
    "    values={a:np.random.randn(n,d),\n",
    "            b:np.random.randn(n,d)}\n",
    "    loss_summary=[]\n",
    "    for t in range(50):\n",
    "        out=sess.run([loss,updates],feed_dict=values)\n",
    "        loss_val=out\n",
    "        print(out)\n",
    "        loss_summary.append(loss_val)\n",
    "    plt.plot(range(50),loss_summary,'g-',label='loss_value')\n",
    "    plt.show()\n",
    "    print(loss_summary[0],loss_summary[50-1])\n",
    "    "
   ]
  },
  {
   "cell_type": "code",
   "execution_count": null,
   "metadata": {},
   "outputs": [],
   "source": []
  },
  {
   "cell_type": "code",
   "execution_count": 90,
   "metadata": {},
   "outputs": [
    {
     "name": "stdout",
     "output_type": "stream",
     "text": [
      "[48825.89, None]\n",
      "[48692.027, None]\n",
      "[48558.945, None]\n",
      "[48426.703, None]\n",
      "[48295.305, None]\n",
      "[48164.688, None]\n",
      "[48034.902, None]\n",
      "[47905.9, None]\n",
      "[47777.707, None]\n",
      "[47650.277, None]\n",
      "[47523.66, None]\n",
      "[47397.8, None]\n",
      "[47272.72, None]\n",
      "[47148.418, None]\n",
      "[47024.83, None]\n",
      "[46902.023, None]\n",
      "[46779.945, None]\n",
      "[46658.64, None]\n",
      "[46538.055, None]\n",
      "[46418.22, None]\n",
      "[46299.113, None]\n",
      "[46180.7, None]\n",
      "[46063.02, None]\n",
      "[45946.055, None]\n",
      "[45829.8, None]\n",
      "[45714.223, None]\n",
      "[45599.344, None]\n",
      "[45485.16, None]\n",
      "[45371.65, None]\n",
      "[45258.84, None]\n",
      "[45146.703, None]\n",
      "[45035.188, None]\n",
      "[44924.383, None]\n",
      "[44814.258, None]\n",
      "[44704.766, None]\n",
      "[44595.91, None]\n",
      "[44487.7, None]\n",
      "[44380.152, None]\n",
      "[44273.203, None]\n",
      "[44166.93, None]\n",
      "[44061.273, None]\n",
      "[43956.23, None]\n",
      "[43851.82, None]\n",
      "[43747.99, None]\n",
      "[43644.79, None]\n",
      "[43542.188, None]\n",
      "[43440.203, None]\n",
      "[43338.81, None]\n",
      "[43238.035, None]\n",
      "[43137.8, None]\n"
     ]
    },
    {
     "data": {
      "image/png": "[encoded data removed]",
      "text/plain": [
       "<Figure size 432x288 with 1 Axes>"
      ]
     },
     "metadata": {
      "needs_background": "light"
     },
     "output_type": "display_data"
    },
    {
     "name": "stdout",
     "output_type": "stream",
     "text": [
      "[48825.89, None] [43137.8, None]\n"
     ]
    }
   ],
   "source": [
    "n,h,d=64,1000,100\n",
    "a=tf.placeholder(tf.float32,shape=(n,d))\n",
    "b=tf.placeholder(tf.float32,shape=(n,d))\n",
    "w1=tf.Variable(tf.random_normal((d,h)))\n",
    "w2=tf.Variable(tf.random_normal((h,d)))\n",
    "r=tf.maximum(tf.matmul(a,w1),0)\n",
    "b_predict=tf.matmul(r,w2)\n",
    "\n",
    "\"\"\"grad_w1,grad_w2=tf.gradients(loss,[w1,w2])\n",
    "l_rate=1e-5\n",
    "new_w1=w1-l_rate*grad_w1\n",
    "new_w2=w2-l_rate*grad_w2\"\"\"\n",
    "loss=tf.losses.mean_squared_error(b,b_predict)\n",
    "\n",
    "###\n",
    "optimizer=tf.train.GradientDescentOptimizer(1e-5)\n",
    "updates=optimizer.minimize(loss)\n",
    "###\n",
    "\n",
    "with tf.Session() as sess:\n",
    "    sess.run(tf.global_variables_initializer())\n",
    "    values={a:np.random.randn(n,d),\n",
    "            b:np.random.randn(n,d)}\n",
    "    loss_summary=[]\n",
    "    for t in range(50):\n",
    "        out=sess.run([loss,updates],feed_dict=values)\n",
    "        loss_val=out\n",
    "        print(out)\n",
    "        loss_summary.append(loss_val)\n",
    "    plt.plot(range(50),loss_summary,'g-',label='loss_value')\n",
    "    plt.show()\n",
    "    print(loss_summary[0],loss_summary[50-1])\n",
    "    "
   ]
  },
  {
   "cell_type": "code",
   "execution_count": null,
   "metadata": {},
   "outputs": [],
   "source": []
  },
  {
   "cell_type": "code",
   "execution_count": 100,
   "metadata": {},
   "outputs": [
    {
     "name": "stdout",
     "output_type": "stream",
     "text": [
      "[3.1736748, None]\n",
      "[1.2064463, None]\n",
      "[1.0222254, None]\n",
      "[0.98652226, None]\n",
      "[0.9784848, None]\n",
      "[0.97646785, None]\n",
      "[0.97581124, None]\n",
      "[0.9755144, None]\n",
      "[0.9753214, None]\n",
      "[0.9751529, None]\n",
      "[0.9749949, None]\n",
      "[0.9748405, None]\n",
      "[0.9746855, None]\n",
      "[0.9745311, None]\n",
      "[0.9743769, None]\n",
      "[0.9742233, None]\n",
      "[0.9740686, None]\n",
      "[0.9739144, None]\n",
      "[0.97375965, None]\n",
      "[0.97360647, None]\n",
      "[0.9734521, None]\n",
      "[0.97329706, None]\n",
      "[0.97314346, None]\n",
      "[0.9729877, None]\n",
      "[0.972835, None]\n",
      "[0.97268033, None]\n",
      "[0.9725265, None]\n",
      "[0.9723738, None]\n",
      "[0.97221875, None]\n",
      "[0.9720636, None]\n",
      "[0.97190946, None]\n",
      "[0.9717565, None]\n",
      "[0.9716021, None]\n",
      "[0.97144496, None]\n",
      "[0.971292, None]\n",
      "[0.971139, None]\n",
      "[0.97098416, None]\n",
      "[0.9708284, None]\n",
      "[0.970675, None]\n",
      "[0.9705208, None]\n",
      "[0.97036713, None]\n",
      "[0.9702112, None]\n",
      "[0.97005826, None]\n",
      "[0.96990305, None]\n",
      "[0.9697477, None]\n",
      "[0.9695928, None]\n",
      "[0.9694372, None]\n",
      "[0.96928215, None]\n",
      "[0.9691294, None]\n",
      "[0.9689739, None]\n"
     ]
    },
    {
     "data": {
      "image/png": "[encoded data removed]",
      "text/plain": [
       "<Figure size 432x288 with 1 Axes>"
      ]
     },
     "metadata": {
      "needs_background": "light"
     },
     "output_type": "display_data"
    },
    {
     "name": "stdout",
     "output_type": "stream",
     "text": [
      "[3.1736748, None] [0.9689739, None]\n"
     ]
    }
   ],
   "source": [
    "import tensorflow as tf\n",
    "import matplotlib.pyplot as plt\n",
    "n,d,h=64,1000,100\n",
    "a=tf.placeholder(tf.float32,shape=(n,d))\n",
    "b=tf.placeholder(tf.float32,shape=(n,d))\n",
    "init=tf.variance_scaling_initializer(2.0)\n",
    "r=tf.layers.dense(inputs=a,units=h,kernel_initializer=init,activation=tf.nn.relu)\n",
    "b_predict=tf.layers.dense(inputs=r,units=d,kernel_initializer=init)\n",
    "loss=tf.losses.mean_squared_error(b,b_predict)\n",
    "\n",
    "optimizer=tf.train.GradientDescentOptimizer(1e0)\n",
    "updates=optimizer.minimize(loss)\n",
    "with tf.Session() as sess:\n",
    "    sess.run(tf.global_variables_initializer())\n",
    "    values={a:np.random.randn(n,d),\n",
    "            b:np.random.randn(n,d)}\n",
    "    loss_summary=[]\n",
    "\n",
    "    for t in range(50):\n",
    "        out=sess.run([loss,updates],feed_dict=values)\n",
    "        loss_val=out\n",
    "        print(out)\n",
    "        loss_summary.append(loss_val)\n",
    "    plt.plot(range(50),loss_summary,'g-',label='loss_value')\n",
    "    plt.show()\n",
    "    print(loss_summary[0],loss_summary[50-1])\n",
    "    \n"
   ]
  },
  {
   "cell_type": "code",
   "execution_count": null,
   "metadata": {},
   "outputs": [],
   "source": []
  },
  {
   "cell_type": "code",
   "execution_count": 103,
   "metadata": {},
   "outputs": [
    {
     "name": "stdout",
     "output_type": "stream",
     "text": [
      "[1.1752638, None]\n",
      "[1.1359342, None]\n",
      "[1.105553, None]\n",
      "[1.0813507, None]\n",
      "[1.0616431, None]\n",
      "[1.0453609, None]\n",
      "[1.0317336, None]\n",
      "[1.0202172, None]\n",
      "[1.0103588, None]\n",
      "[1.0018715, None]\n",
      "[0.99447036, None]\n",
      "[0.987982, None]\n",
      "[0.98226297, None]\n",
      "[0.97719526, None]\n",
      "[0.972686, None]\n",
      "[0.9686069, None]\n",
      "[0.9648826, None]\n",
      "[0.96143985, None]\n",
      "[0.95823467, None]\n",
      "[0.9552037, None]\n",
      "[0.9523469, None]\n",
      "[0.9496363, None]\n",
      "[0.9470367, None]\n",
      "[0.94453156, None]\n",
      "[0.94210184, None]\n",
      "[0.93973356, None]\n",
      "[0.93741125, None]\n",
      "[0.9351288, None]\n",
      "[0.93286675, None]\n",
      "[0.930621, None]\n",
      "[0.9283857, None]\n",
      "[0.9261543, None]\n",
      "[0.9239174, None]\n",
      "[0.92166984, None]\n",
      "[0.9194096, None]\n",
      "[0.9171374, None]\n",
      "[0.9148449, None]\n",
      "[0.91253316, None]\n",
      "[0.9101971, None]\n",
      "[0.90783834, None]\n",
      "[0.90544933, None]\n",
      "[0.9030319, None]\n",
      "[0.90058345, None]\n",
      "[0.8981034, None]\n",
      "[0.8955899, None]\n",
      "[0.8930384, None]\n",
      "[0.8904496, None]\n",
      "[0.8878266, None]\n",
      "[0.8851669, None]\n",
      "[0.88246864, None]\n"
     ]
    },
    {
     "data": {
      "image/png": "[encoded data removed]",
      "text/plain": [
       "<Figure size 432x288 with 1 Axes>"
      ]
     },
     "metadata": {
      "needs_background": "light"
     },
     "output_type": "display_data"
    },
    {
     "name": "stdout",
     "output_type": "stream",
     "text": [
      "[1.1752638, None] [0.88246864, None]\n"
     ]
    }
   ],
   "source": [
    "import tensorflow as tf\n",
    "import matplotlib.pyplot as plt\n",
    "n,d,h=64,1000,100\n",
    "a=tf.placeholder(tf.float32,shape=(n,d))\n",
    "b=tf.placeholder(tf.float32,shape=(n,d))\n",
    "model=tf.keras.Sequential()\n",
    "model.add(tf.layers.Dense(h,input_shape=(d,),activation=tf.nn.relu))\n",
    "model.add(tf.layers.Dense(d))\n",
    "b_predict=model(a)\n",
    "\n",
    "loss=tf.losses.mean_squared_error(b,b_predict)\n",
    "optimizer=tf.train.GradientDescentOptimizer(1e0)\n",
    "updates=optimizer.minimize(loss)\n",
    "with tf.Session() as sess:\n",
    "    sess.run(tf.global_variables_initializer())\n",
    "    values={a:np.random.randn(n,d),\n",
    "            b:np.random.randn(n,d)}\n",
    "    loss_summary=[]\n",
    "\n",
    "    for t in range(50):\n",
    "        out=sess.run([loss,updates],feed_dict=values)\n",
    "        loss_val=out\n",
    "        print(out)\n",
    "        loss_summary.append(loss_val)\n",
    "    plt.plot(range(50),loss_summary,'g-',label='loss_value')\n",
    "    plt.show()\n",
    "    print(loss_summary[0],loss_summary[50-1])\n",
    "    \n"
   ]
  },
  {
   "cell_type": "code",
   "execution_count": 104,
   "metadata": {},
   "outputs": [
    {
     "name": "stdout",
     "output_type": "stream",
     "text": [
      "Epoch 1/50\n",
      "64/64 [==============================] - 2s 24ms/step - loss: 1.1493\n",
      "Epoch 2/50\n",
      "64/64 [==============================] - 0s 73us/step - loss: 1.1121\n",
      "Epoch 3/50\n",
      "64/64 [==============================] - 0s 148us/step - loss: 1.0833\n",
      "Epoch 4/50\n",
      "64/64 [==============================] - 0s 138us/step - loss: 1.0608\n",
      "Epoch 5/50\n",
      "64/64 [==============================] - 0s 122us/step - loss: 1.0421\n",
      "Epoch 6/50\n",
      "64/64 [==============================] - 0s 105us/step - loss: 1.0266\n",
      "Epoch 7/50\n",
      "64/64 [==============================] - 0s 137us/step - loss: 1.0137\n",
      "Epoch 8/50\n",
      "64/64 [==============================] - 0s 144us/step - loss: 1.0027\n",
      "Epoch 9/50\n",
      "64/64 [==============================] - 0s 219us/step - loss: 0.9933\n",
      "Epoch 10/50\n",
      "64/64 [==============================] - 0s 119us/step - loss: 0.9852\n",
      "Epoch 11/50\n",
      "64/64 [==============================] - 0s 199us/step - loss: 0.9781\n",
      "Epoch 12/50\n",
      "64/64 [==============================] - 0s 263us/step - loss: 0.9719\n",
      "Epoch 13/50\n",
      "64/64 [==============================] - 0s 196us/step - loss: 0.9664\n",
      "Epoch 14/50\n",
      "64/64 [==============================] - 0s 166us/step - loss: 0.9615\n",
      "Epoch 15/50\n",
      "64/64 [==============================] - 0s 160us/step - loss: 0.9571\n",
      "Epoch 16/50\n",
      "64/64 [==============================] - 0s 76us/step - loss: 0.9531\n",
      "Epoch 17/50\n",
      "64/64 [==============================] - 0s 140us/step - loss: 0.9494\n",
      "Epoch 18/50\n",
      "64/64 [==============================] - 0s 89us/step - loss: 0.9461\n",
      "Epoch 19/50\n",
      "64/64 [==============================] - 0s 208us/step - loss: 0.9429\n",
      "Epoch 20/50\n",
      "64/64 [==============================] - 0s 232us/step - loss: 0.9400\n",
      "Epoch 21/50\n",
      "64/64 [==============================] - 0s 48us/step - loss: 0.9372\n",
      "Epoch 22/50\n",
      "64/64 [==============================] - 0s 287us/step - loss: 0.9346\n",
      "Epoch 23/50\n",
      "64/64 [==============================] - 0s 224us/step - loss: 0.9321\n",
      "Epoch 24/50\n",
      "64/64 [==============================] - 0s 179us/step - loss: 0.9297\n",
      "Epoch 25/50\n",
      "64/64 [==============================] - 0s 113us/step - loss: 0.9273\n",
      "Epoch 26/50\n",
      "64/64 [==============================] - 0s 103us/step - loss: 0.9250\n",
      "Epoch 27/50\n",
      "64/64 [==============================] - 0s 16us/step - loss: 0.9227\n",
      "Epoch 28/50\n",
      "64/64 [==============================] - 0s 54us/step - loss: 0.9205\n",
      "Epoch 29/50\n",
      "64/64 [==============================] - 0s 79us/step - loss: 0.9183\n",
      "Epoch 30/50\n",
      "64/64 [==============================] - 0s 281us/step - loss: 0.9161\n",
      "Epoch 31/50\n",
      "64/64 [==============================] - 0s 258us/step - loss: 0.9139\n",
      "Epoch 32/50\n",
      "64/64 [==============================] - 0s 108us/step - loss: 0.9117\n",
      "Epoch 33/50\n",
      "64/64 [==============================] - 0s 232us/step - loss: 0.9096\n",
      "Epoch 34/50\n",
      "64/64 [==============================] - 0s 157us/step - loss: 0.9074\n",
      "Epoch 35/50\n",
      "64/64 [==============================] - 0s 134us/step - loss: 0.9052\n",
      "Epoch 36/50\n",
      "64/64 [==============================] - 0s 171us/step - loss: 0.9029\n",
      "Epoch 37/50\n",
      "64/64 [==============================] - 0s 115us/step - loss: 0.9007\n",
      "Epoch 38/50\n",
      "64/64 [==============================] - 0s 237us/step - loss: 0.8985\n",
      "Epoch 39/50\n",
      "64/64 [==============================] - 0s 197us/step - loss: 0.8962\n",
      "Epoch 40/50\n",
      "64/64 [==============================] - 0s 191us/step - loss: 0.8939\n",
      "Epoch 41/50\n",
      "64/64 [==============================] - 0s 253us/step - loss: 0.8915\n",
      "Epoch 42/50\n",
      "64/64 [==============================] - 0s 189us/step - loss: 0.8892\n",
      "Epoch 43/50\n",
      "64/64 [==============================] - 0s 242us/step - loss: 0.8868\n",
      "Epoch 44/50\n",
      "64/64 [==============================] - 0s 119us/step - loss: 0.8844\n",
      "Epoch 45/50\n",
      "64/64 [==============================] - 0s 149us/step - loss: 0.8819\n",
      "Epoch 46/50\n",
      "64/64 [==============================] - 0s 212us/step - loss: 0.8794\n",
      "Epoch 47/50\n",
      "64/64 [==============================] - 0s 179us/step - loss: 0.8769\n",
      "Epoch 48/50\n",
      "64/64 [==============================] - 0s 93us/step - loss: 0.8743\n",
      "Epoch 49/50\n",
      "64/64 [==============================] - 0s 176us/step - loss: 0.8717\n",
      "Epoch 50/50\n",
      "64/64 [==============================] - 0s 117us/step - loss: 0.8690\n"
     ]
    }
   ],
   "source": [
    "import tensorflow as tf\n",
    "import matplotlib.pyplot as plt\n",
    "n,d,h=64,1000,100\n",
    "a=tf.placeholder(tf.float32,shape=(n,d))\n",
    "b=tf.placeholder(tf.float32,shape=(n,d))\n",
    "model=tf.keras.Sequential()\n",
    "model.add(tf.layers.Dense(h,input_shape=(d,),activation=tf.nn.relu))\n",
    "model.add(tf.layers.Dense(d))\n",
    "model.compile(loss=tf.keras.losses.mean_squared_error, optimizer=tf.keras.optimizers.SGD(lr=1e0))\n",
    "a=np.random.randn(n,d)\n",
    "b=np.random.randn(n,d)\n",
    "history=model.fit(a,b,epochs=50,batch_size=n)\n"
   ]
  },
  {
   "cell_type": "code",
   "execution_count": null,
   "metadata": {},
   "outputs": [],
   "source": []
  }
 ],
 "metadata": {
  "kernelspec": {
   "display_name": "NNlab",
   "language": "python",
   "name": "nnlab"
  },
  "language_info": {
   "codemirror_mode": {
    "name": "ipython",
    "version": 3
   },
   "file_extension": ".py",
   "mimetype": "text/x-python",
   "name": "python",
   "nbconvert_exporter": "python",
   "pygments_lexer": "ipython3",
   "version": "3.6.6"
  }
 },
 "nbformat": 4,
 "nbformat_minor": 4
}
